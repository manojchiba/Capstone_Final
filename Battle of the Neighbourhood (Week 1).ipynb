{
    "cells": [
        {
            "metadata": {},
            "cell_type": "markdown",
            "source": "INTRODUCTION AND BUSINESS PROBLEM"
        },
        {
            "metadata": {
                "collapsed": true
            },
            "cell_type": "markdown",
            "source": "1. Introduction\n\nPersonally, I have visited Budapest for business for the last 5 years. One of the greatest challenges I have is finding suitable hotel accomodation without having to pay exhorbitant prices. Given the nature of the business (a diversified company with property interests), we have been strategising on raising sufficient funds for a large Capital Expenditure (CAPEX) Project. While the company would like to invest in property in Nigeria, I am of the opinion that Hungary, and the capital city of Budapest is the best place for this for numerous reasons: i) There is a shortage of affordable accomodation, ii) It may assist in creating competition, thus driving price to affordable levels for accomodation, and iii) it may promote tourism and further business for the country specifically.\n\nBackground on Budapest: Its a vibrant city, which often sees many young individuals come to the city on the weekends to have a party. Historically it was created when three cities joined, and currently is actually two parts to the city, namely the Buda side and the Pest side - seperated by the Danube river, with a number of bridges connecting the two sides of the city. Hungary as a country is steeped in history and has birthed many inventions including the Rubiks cube, home to the second largest synagogue and has the oldest metro (which is an absolute experience). \n\n\nAssuming that I manage to convince the Chief Financial Officer and the Chief Investment Officer, that Hungary and the capital city of Budapest is the right country for the capital investment for property development, the next question would be the business problem that I seek to solve.\n\nBusiness Problem:\n1. Where in Budapest should we invest and further explore? - \"Location, location, location\" is the order of the day for any property investment, therefore where in Budapest (location) should we explore for the investment of the accomodation building (hotel/motel). \n2. Unlike most existing hotels that seem to develop and then the surrounding areas develop - what are existing places individuals vist and how do we construct a hotel around this?\n3. Will there be any accomodation (hotel) competitors that we need to be concerned about?\n\nIt is important to get the insights, despite the availability of funding, it takes on average 192.5 days to obtain a permit (Doingbusiness.org, 2020). "
        },
        {
            "metadata": {},
            "cell_type": "markdown",
            "source": "DATA"
        },
        {
            "metadata": {},
            "cell_type": "markdown",
            "source": "The data to be used:\n\n1. Foursquare through the API for venues data;\n\n2. Wikipedia for the districts in Budapest;\n\n3. The longitude and latitude's of the city will come from various sources (publicly available)."
        },
        {
            "metadata": {},
            "cell_type": "code",
            "source": "",
            "execution_count": null,
            "outputs": []
        }
    ],
    "metadata": {
        "kernelspec": {
            "name": "python3",
            "display_name": "Python 3.6",
            "language": "python"
        },
        "language_info": {
            "name": "python",
            "version": "3.6.9",
            "mimetype": "text/x-python",
            "codemirror_mode": {
                "name": "ipython",
                "version": 3
            },
            "pygments_lexer": "ipython3",
            "nbconvert_exporter": "python",
            "file_extension": ".py"
        }
    },
    "nbformat": 4,
    "nbformat_minor": 1
}